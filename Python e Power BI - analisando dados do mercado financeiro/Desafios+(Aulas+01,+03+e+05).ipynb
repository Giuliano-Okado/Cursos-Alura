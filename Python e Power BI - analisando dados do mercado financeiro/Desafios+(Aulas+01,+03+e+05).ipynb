{
 "cells": [
  {
   "cell_type": "markdown",
   "metadata": {
    "id": "qxah03ikONCD"
   },
   "source": [
    "# Sobre o notebook\n",
    "\n",
    "Aproveite esse espaço para as atividades do curso de **Python e Power BI: análise de dados** da Alura. Aqui você pode escrever e testar os códigos dos diversos desafios envolvendo os aprendizados de cada aula.\n",
    "\n",
    "Este notebook foi construído com espaço para as células dos desafios propostos no curso, com ele você tem espaço para construir e executar suas soluções"
   ]
  },
  {
   "cell_type": "markdown",
   "metadata": {
    "id": "IA3M1eso_L2Z"
   },
   "source": [
    "## Aula 01 - Extração dos dados com Python"
   ]
  },
  {
   "cell_type": "markdown",
   "metadata": {
    "id": "AmpR_VE4CImQ"
   },
   "source": [
    "### Desafio 1"
   ]
  },
  {
   "cell_type": "code",
   "execution_count": 1,
   "metadata": {
    "id": "9EvWTU6HO6qo"
   },
   "outputs": [],
   "source": [
    "import yfinance as yf"
   ]
  },
  {
   "cell_type": "code",
   "execution_count": 3,
   "metadata": {
    "id": "ZruvypSoO6oP"
   },
   "outputs": [],
   "source": [
    "carteira_yf = ['ASAI3.SA', 'EQTL3.SA', 'LREN3.SA', 'PRIO3.SA', \n",
    "               'RAIL3.SA', 'RDOR3.SA', 'SBSP3.SA', 'VIVT3.SA']"
   ]
  },
  {
   "cell_type": "code",
   "execution_count": 4,
   "metadata": {
    "id": "wN0_cal1O6FJ"
   },
   "outputs": [
    {
     "name": "stderr",
     "output_type": "stream",
     "text": [
      "[*********************100%%**********************]  8 of 8 completed\n"
     ]
    },
    {
     "data": {
      "text/html": [
       "<div>\n",
       "<style scoped>\n",
       "    .dataframe tbody tr th:only-of-type {\n",
       "        vertical-align: middle;\n",
       "    }\n",
       "\n",
       "    .dataframe tbody tr th {\n",
       "        vertical-align: top;\n",
       "    }\n",
       "\n",
       "    .dataframe thead th {\n",
       "        text-align: right;\n",
       "    }\n",
       "</style>\n",
       "<table border=\"1\" class=\"dataframe\">\n",
       "  <thead>\n",
       "    <tr style=\"text-align: right;\">\n",
       "      <th>Price</th>\n",
       "      <th>Date</th>\n",
       "      <th>Open</th>\n",
       "      <th>High</th>\n",
       "      <th>Low</th>\n",
       "      <th>Close</th>\n",
       "      <th>Ativo</th>\n",
       "    </tr>\n",
       "  </thead>\n",
       "  <tbody>\n",
       "    <tr>\n",
       "      <th>0</th>\n",
       "      <td>2023-01-02</td>\n",
       "      <td>19.000000</td>\n",
       "      <td>19.170000</td>\n",
       "      <td>18.549999</td>\n",
       "      <td>18.990000</td>\n",
       "      <td>ASAI3.SA</td>\n",
       "    </tr>\n",
       "    <tr>\n",
       "      <th>1</th>\n",
       "      <td>2023-01-02</td>\n",
       "      <td>26.898176</td>\n",
       "      <td>26.898176</td>\n",
       "      <td>26.029203</td>\n",
       "      <td>26.159052</td>\n",
       "      <td>EQTL3.SA</td>\n",
       "    </tr>\n",
       "    <tr>\n",
       "      <th>2</th>\n",
       "      <td>2023-01-02</td>\n",
       "      <td>20.270000</td>\n",
       "      <td>20.330000</td>\n",
       "      <td>19.059999</td>\n",
       "      <td>19.330000</td>\n",
       "      <td>LREN3.SA</td>\n",
       "    </tr>\n",
       "    <tr>\n",
       "      <th>3</th>\n",
       "      <td>2023-01-02</td>\n",
       "      <td>36.880001</td>\n",
       "      <td>37.660000</td>\n",
       "      <td>36.450001</td>\n",
       "      <td>36.759998</td>\n",
       "      <td>PRIO3.SA</td>\n",
       "    </tr>\n",
       "    <tr>\n",
       "      <th>4</th>\n",
       "      <td>2023-01-02</td>\n",
       "      <td>18.309999</td>\n",
       "      <td>18.480000</td>\n",
       "      <td>17.540001</td>\n",
       "      <td>17.660000</td>\n",
       "      <td>RAIL3.SA</td>\n",
       "    </tr>\n",
       "  </tbody>\n",
       "</table>\n",
       "</div>"
      ],
      "text/plain": [
       "Price       Date       Open       High        Low      Close     Ativo\n",
       "0     2023-01-02  19.000000  19.170000  18.549999  18.990000  ASAI3.SA\n",
       "1     2023-01-02  26.898176  26.898176  26.029203  26.159052  EQTL3.SA\n",
       "2     2023-01-02  20.270000  20.330000  19.059999  19.330000  LREN3.SA\n",
       "3     2023-01-02  36.880001  37.660000  36.450001  36.759998  PRIO3.SA\n",
       "4     2023-01-02  18.309999  18.480000  17.540001  17.660000  RAIL3.SA"
      ]
     },
     "execution_count": 4,
     "metadata": {},
     "output_type": "execute_result"
    }
   ],
   "source": [
    "df = yf.download(carteira_yf, start = '2023-01-01', end = '2023-08-31')\n",
    "\n",
    "cotacoes = df.stack(level = 1)\n",
    "cotacoes = cotacoes.reset_index().rename(columns = {'Ticker': 'Ativo'})\n",
    "cotacoes = cotacoes[[\"Date\", \"Open\", \"High\", \"Low\", \"Close\", \"Ativo\"]]\n",
    "cotacoes.head()"
   ]
  },
  {
   "cell_type": "code",
   "execution_count": null,
   "metadata": {
    "id": "NgKfiEqnO56P"
   },
   "outputs": [],
   "source": []
  },
  {
   "cell_type": "markdown",
   "metadata": {
    "id": "4pJxly3lCImU"
   },
   "source": [
    "### Desafio 2"
   ]
  },
  {
   "cell_type": "code",
   "execution_count": 5,
   "metadata": {
    "id": "rjCC4LwGO8F4"
   },
   "outputs": [
    {
     "name": "stderr",
     "output_type": "stream",
     "text": [
      "2024-04-30 15:40:47,933 [logging.log_init] INFO: LOGLEVEL=INFO\n"
     ]
    }
   ],
   "source": [
    "import fundamentus\n",
    "import pandas as pd"
   ]
  },
  {
   "cell_type": "code",
   "execution_count": 7,
   "metadata": {
    "id": "9G0J_Q-tO8BP"
   },
   "outputs": [
    {
     "name": "stderr",
     "output_type": "stream",
     "text": [
      "2024-04-30 15:45:38,804 [detalhes.get_papel] INFO: detalhes: call: get..._list()\n",
      "2024-04-30 15:45:38,805 [detalhes.get_detalhes_list] INFO: get list: [Papel: ASAI3]\n",
      "C:\\Users\\Giuliano\\anaconda3II\\Lib\\site-packages\\fundamentus\\detalhes.py:64: FutureWarning: The frame.append method is deprecated and will be removed from pandas in a future version. Use pandas.concat instead.\n",
      "  result = result.append(df)\n",
      "2024-04-30 15:45:40,559 [detalhes.get_detalhes_list] INFO: get list: [Papel: EQTL3]\n",
      "C:\\Users\\Giuliano\\anaconda3II\\Lib\\site-packages\\fundamentus\\detalhes.py:64: FutureWarning: The frame.append method is deprecated and will be removed from pandas in a future version. Use pandas.concat instead.\n",
      "  result = result.append(df)\n",
      "2024-04-30 15:45:42,043 [detalhes.get_detalhes_list] INFO: get list: [Papel: LREN3]\n",
      "C:\\Users\\Giuliano\\anaconda3II\\Lib\\site-packages\\fundamentus\\detalhes.py:64: FutureWarning: The frame.append method is deprecated and will be removed from pandas in a future version. Use pandas.concat instead.\n",
      "  result = result.append(df)\n",
      "2024-04-30 15:45:43,569 [detalhes.get_detalhes_list] INFO: get list: [Papel: PRIO3]\n",
      "C:\\Users\\Giuliano\\anaconda3II\\Lib\\site-packages\\fundamentus\\detalhes.py:64: FutureWarning: The frame.append method is deprecated and will be removed from pandas in a future version. Use pandas.concat instead.\n",
      "  result = result.append(df)\n",
      "2024-04-30 15:45:44,903 [detalhes.get_detalhes_list] INFO: get list: [Papel: RAIL3]\n",
      "C:\\Users\\Giuliano\\anaconda3II\\Lib\\site-packages\\fundamentus\\detalhes.py:64: FutureWarning: The frame.append method is deprecated and will be removed from pandas in a future version. Use pandas.concat instead.\n",
      "  result = result.append(df)\n",
      "2024-04-30 15:45:46,105 [detalhes.get_detalhes_list] INFO: get list: [Papel: RDOR3]\n",
      "C:\\Users\\Giuliano\\anaconda3II\\Lib\\site-packages\\fundamentus\\detalhes.py:64: FutureWarning: The frame.append method is deprecated and will be removed from pandas in a future version. Use pandas.concat instead.\n",
      "  result = result.append(df)\n",
      "2024-04-30 15:45:47,576 [detalhes.get_detalhes_list] INFO: get list: [Papel: SBSP3]\n",
      "C:\\Users\\Giuliano\\anaconda3II\\Lib\\site-packages\\fundamentus\\detalhes.py:64: FutureWarning: The frame.append method is deprecated and will be removed from pandas in a future version. Use pandas.concat instead.\n",
      "  result = result.append(df)\n",
      "2024-04-30 15:45:48,805 [detalhes.get_detalhes_list] INFO: get list: [Papel: VIVT3]\n",
      "C:\\Users\\Giuliano\\anaconda3II\\Lib\\site-packages\\fundamentus\\detalhes.py:64: FutureWarning: The frame.append method is deprecated and will be removed from pandas in a future version. Use pandas.concat instead.\n",
      "  result = result.append(df)\n"
     ]
    },
    {
     "data": {
      "text/html": [
       "<div>\n",
       "<style scoped>\n",
       "    .dataframe tbody tr th:only-of-type {\n",
       "        vertical-align: middle;\n",
       "    }\n",
       "\n",
       "    .dataframe tbody tr th {\n",
       "        vertical-align: top;\n",
       "    }\n",
       "\n",
       "    .dataframe thead th {\n",
       "        text-align: right;\n",
       "    }\n",
       "</style>\n",
       "<table border=\"1\" class=\"dataframe\">\n",
       "  <thead>\n",
       "    <tr style=\"text-align: right;\">\n",
       "      <th></th>\n",
       "      <th>Setor</th>\n",
       "      <th>Cotacao</th>\n",
       "      <th>Min_52_sem</th>\n",
       "      <th>Max_52_sem</th>\n",
       "      <th>Valor_de_mercado</th>\n",
       "      <th>Nro_Acoes</th>\n",
       "      <th>Patrim_Liq</th>\n",
       "      <th>Receita_Liquida_12m</th>\n",
       "      <th>Receita_Liquida_3m</th>\n",
       "      <th>Lucro_Liquido_12m</th>\n",
       "      <th>Lucro_Liquido_3m</th>\n",
       "    </tr>\n",
       "  </thead>\n",
       "  <tbody>\n",
       "    <tr>\n",
       "      <th>ASAI3</th>\n",
       "      <td>Comércio e Distribuição</td>\n",
       "      <td>13.59</td>\n",
       "      <td>10.50</td>\n",
       "      <td>14.93</td>\n",
       "      <td>18371400000</td>\n",
       "      <td>1351830000</td>\n",
       "      <td>4698000000</td>\n",
       "      <td>68629000000</td>\n",
       "      <td>17222000000</td>\n",
       "      <td>698000000</td>\n",
       "      <td>60000000</td>\n",
       "    </tr>\n",
       "    <tr>\n",
       "      <th>EQTL3</th>\n",
       "      <td>Energia Elétrica</td>\n",
       "      <td>31.00</td>\n",
       "      <td>26.40</td>\n",
       "      <td>35.83</td>\n",
       "      <td>35560400000</td>\n",
       "      <td>1147110000</td>\n",
       "      <td>21093200000</td>\n",
       "      <td>40985100000</td>\n",
       "      <td>11245500000</td>\n",
       "      <td>2075590000</td>\n",
       "      <td>674185000</td>\n",
       "    </tr>\n",
       "    <tr>\n",
       "      <th>LREN3</th>\n",
       "      <td>Comércio</td>\n",
       "      <td>15.69</td>\n",
       "      <td>11.74</td>\n",
       "      <td>22.02</td>\n",
       "      <td>15113000000</td>\n",
       "      <td>963227000</td>\n",
       "      <td>10047200000</td>\n",
       "      <td>13647800000</td>\n",
       "      <td>4271380000</td>\n",
       "      <td>976259000</td>\n",
       "      <td>526891000</td>\n",
       "    </tr>\n",
       "  </tbody>\n",
       "</table>\n",
       "</div>"
      ],
      "text/plain": [
       "                         Setor Cotacao Min_52_sem Max_52_sem  \\\n",
       "ASAI3  Comércio e Distribuição   13.59      10.50      14.93   \n",
       "EQTL3         Energia Elétrica   31.00      26.40      35.83   \n",
       "LREN3                 Comércio   15.69      11.74      22.02   \n",
       "\n",
       "       Valor_de_mercado   Nro_Acoes   Patrim_Liq Receita_Liquida_12m  \\\n",
       "ASAI3       18371400000  1351830000   4698000000         68629000000   \n",
       "EQTL3       35560400000  1147110000  21093200000         40985100000   \n",
       "LREN3       15113000000   963227000  10047200000         13647800000   \n",
       "\n",
       "      Receita_Liquida_3m Lucro_Liquido_12m Lucro_Liquido_3m  \n",
       "ASAI3        17222000000         698000000         60000000  \n",
       "EQTL3        11245500000        2075590000        674185000  \n",
       "LREN3         4271380000         976259000        526891000  "
      ]
     },
     "execution_count": 7,
     "metadata": {},
     "output_type": "execute_result"
    }
   ],
   "source": [
    "carteira_fund = ['ASAI3', 'EQTL3', 'LREN3', 'PRIO3', \n",
    "                'RAIL3', 'RDOR3', 'SBSP3', 'VIVT3']\n",
    "\n",
    "ind = fundamentus.get_papel(carteira_fund)[['Setor', 'Cotacao', 'Min_52_sem', 'Max_52_sem', 'Valor_de_mercado',\n",
    "                                            'Nro_Acoes', 'Patrim_Liq','Receita_Liquida_12m','Receita_Liquida_3m',\n",
    "                                            'Lucro_Liquido_12m', 'Lucro_Liquido_3m']]\n",
    "ind.head(3)"
   ]
  },
  {
   "cell_type": "code",
   "execution_count": 8,
   "metadata": {
    "id": "Yb83aA0IO74o"
   },
   "outputs": [
    {
     "data": {
      "text/html": [
       "<div>\n",
       "<style scoped>\n",
       "    .dataframe tbody tr th:only-of-type {\n",
       "        vertical-align: middle;\n",
       "    }\n",
       "\n",
       "    .dataframe tbody tr th {\n",
       "        vertical-align: top;\n",
       "    }\n",
       "\n",
       "    .dataframe thead th {\n",
       "        text-align: right;\n",
       "    }\n",
       "</style>\n",
       "<table border=\"1\" class=\"dataframe\">\n",
       "  <thead>\n",
       "    <tr style=\"text-align: right;\">\n",
       "      <th></th>\n",
       "      <th>Ativo</th>\n",
       "      <th>Setor</th>\n",
       "      <th>Cotacao</th>\n",
       "      <th>Min_52_sem</th>\n",
       "      <th>Max_52_sem</th>\n",
       "      <th>Valor_de_mercado</th>\n",
       "      <th>Nro_Acoes</th>\n",
       "      <th>Patrim_Liq</th>\n",
       "      <th>Receita_Liquida_12m</th>\n",
       "      <th>Receita_Liquida_3m</th>\n",
       "      <th>Lucro_Liquido_12m</th>\n",
       "      <th>Lucro_Liquido_3m</th>\n",
       "    </tr>\n",
       "  </thead>\n",
       "  <tbody>\n",
       "    <tr>\n",
       "      <th>0</th>\n",
       "      <td>ASAI3</td>\n",
       "      <td>Comércio e Distribuição</td>\n",
       "      <td>13.59</td>\n",
       "      <td>10.50</td>\n",
       "      <td>14.93</td>\n",
       "      <td>1.837140e+10</td>\n",
       "      <td>1.351830e+09</td>\n",
       "      <td>4.698000e+09</td>\n",
       "      <td>6.862900e+10</td>\n",
       "      <td>1.722200e+10</td>\n",
       "      <td>6.980000e+08</td>\n",
       "      <td>6.000000e+07</td>\n",
       "    </tr>\n",
       "    <tr>\n",
       "      <th>1</th>\n",
       "      <td>EQTL3</td>\n",
       "      <td>Energia Elétrica</td>\n",
       "      <td>31.00</td>\n",
       "      <td>26.40</td>\n",
       "      <td>35.83</td>\n",
       "      <td>3.556040e+10</td>\n",
       "      <td>1.147110e+09</td>\n",
       "      <td>2.109320e+10</td>\n",
       "      <td>4.098510e+10</td>\n",
       "      <td>1.124550e+10</td>\n",
       "      <td>2.075590e+09</td>\n",
       "      <td>6.741850e+08</td>\n",
       "    </tr>\n",
       "    <tr>\n",
       "      <th>2</th>\n",
       "      <td>LREN3</td>\n",
       "      <td>Comércio</td>\n",
       "      <td>15.69</td>\n",
       "      <td>11.74</td>\n",
       "      <td>22.02</td>\n",
       "      <td>1.511300e+10</td>\n",
       "      <td>9.632270e+08</td>\n",
       "      <td>1.004720e+10</td>\n",
       "      <td>1.364780e+10</td>\n",
       "      <td>4.271380e+09</td>\n",
       "      <td>9.762590e+08</td>\n",
       "      <td>5.268910e+08</td>\n",
       "    </tr>\n",
       "    <tr>\n",
       "      <th>3</th>\n",
       "      <td>PRIO3</td>\n",
       "      <td>Petróleo, Gás e Biocombustíveis</td>\n",
       "      <td>49.56</td>\n",
       "      <td>32.65</td>\n",
       "      <td>50.86</td>\n",
       "      <td>4.421050e+10</td>\n",
       "      <td>8.920600e+08</td>\n",
       "      <td>1.387830e+10</td>\n",
       "      <td>1.190500e+10</td>\n",
       "      <td>2.733390e+09</td>\n",
       "      <td>5.179910e+09</td>\n",
       "      <td>1.548050e+09</td>\n",
       "    </tr>\n",
       "    <tr>\n",
       "      <th>4</th>\n",
       "      <td>RAIL3</td>\n",
       "      <td>Transporte</td>\n",
       "      <td>20.83</td>\n",
       "      <td>19.68</td>\n",
       "      <td>24.09</td>\n",
       "      <td>3.863690e+10</td>\n",
       "      <td>1.854870e+09</td>\n",
       "      <td>1.567140e+10</td>\n",
       "      <td>1.093770e+10</td>\n",
       "      <td>2.615700e+09</td>\n",
       "      <td>7.196660e+08</td>\n",
       "      <td>-1.689030e+06</td>\n",
       "    </tr>\n",
       "  </tbody>\n",
       "</table>\n",
       "</div>"
      ],
      "text/plain": [
       "   Ativo                            Setor  Cotacao  Min_52_sem  Max_52_sem  \\\n",
       "0  ASAI3          Comércio e Distribuição    13.59       10.50       14.93   \n",
       "1  EQTL3                 Energia Elétrica    31.00       26.40       35.83   \n",
       "2  LREN3                         Comércio    15.69       11.74       22.02   \n",
       "3  PRIO3  Petróleo, Gás e Biocombustíveis    49.56       32.65       50.86   \n",
       "4  RAIL3                       Transporte    20.83       19.68       24.09   \n",
       "\n",
       "   Valor_de_mercado     Nro_Acoes    Patrim_Liq  Receita_Liquida_12m  \\\n",
       "0      1.837140e+10  1.351830e+09  4.698000e+09         6.862900e+10   \n",
       "1      3.556040e+10  1.147110e+09  2.109320e+10         4.098510e+10   \n",
       "2      1.511300e+10  9.632270e+08  1.004720e+10         1.364780e+10   \n",
       "3      4.421050e+10  8.920600e+08  1.387830e+10         1.190500e+10   \n",
       "4      3.863690e+10  1.854870e+09  1.567140e+10         1.093770e+10   \n",
       "\n",
       "   Receita_Liquida_3m  Lucro_Liquido_12m  Lucro_Liquido_3m  \n",
       "0        1.722200e+10       6.980000e+08      6.000000e+07  \n",
       "1        1.124550e+10       2.075590e+09      6.741850e+08  \n",
       "2        4.271380e+09       9.762590e+08      5.268910e+08  \n",
       "3        2.733390e+09       5.179910e+09      1.548050e+09  \n",
       "4        2.615700e+09       7.196660e+08     -1.689030e+06  "
      ]
     },
     "execution_count": 8,
     "metadata": {},
     "output_type": "execute_result"
    }
   ],
   "source": [
    "ind = ind.reset_index()\n",
    "ind.rename(columns = {'index': 'Ativo'}, inplace = True)\n",
    "colunas = ['Cotacao', 'Min_52_sem', 'Max_52_sem', 'Valor_de_mercado', 'Nro_Acoes', 'Patrim_Liq',\n",
    "           'Receita_Liquida_12m', 'Receita_Liquida_3m', 'Lucro_Liquido_12m', 'Lucro_Liquido_3m']\n",
    "ind[colunas] = ind[colunas].apply(pd.to_numeric, errors = 'coerce', axis = 1)\n",
    "ind.head()"
   ]
  },
  {
   "cell_type": "code",
   "execution_count": 9,
   "metadata": {
    "id": "U4mgF6jVO71M"
   },
   "outputs": [
    {
     "data": {
      "text/html": [
       "<div>\n",
       "<style scoped>\n",
       "    .dataframe tbody tr th:only-of-type {\n",
       "        vertical-align: middle;\n",
       "    }\n",
       "\n",
       "    .dataframe tbody tr th {\n",
       "        vertical-align: top;\n",
       "    }\n",
       "\n",
       "    .dataframe thead th {\n",
       "        text-align: right;\n",
       "    }\n",
       "</style>\n",
       "<table border=\"1\" class=\"dataframe\">\n",
       "  <thead>\n",
       "    <tr style=\"text-align: right;\">\n",
       "      <th>Multiples</th>\n",
       "      <th>Ativo</th>\n",
       "      <th>P/L</th>\n",
       "      <th>DY</th>\n",
       "      <th>P/VP</th>\n",
       "      <th>ROE</th>\n",
       "    </tr>\n",
       "  </thead>\n",
       "  <tbody>\n",
       "    <tr>\n",
       "      <th>0</th>\n",
       "      <td>ASAI3</td>\n",
       "      <td>26.32</td>\n",
       "      <td>0.0000</td>\n",
       "      <td>3.91</td>\n",
       "      <td>0.1486</td>\n",
       "    </tr>\n",
       "    <tr>\n",
       "      <th>1</th>\n",
       "      <td>EQTL3</td>\n",
       "      <td>17.13</td>\n",
       "      <td>0.0000</td>\n",
       "      <td>1.69</td>\n",
       "      <td>0.0984</td>\n",
       "    </tr>\n",
       "    <tr>\n",
       "      <th>2</th>\n",
       "      <td>LREN3</td>\n",
       "      <td>15.48</td>\n",
       "      <td>0.0434</td>\n",
       "      <td>1.50</td>\n",
       "      <td>0.0972</td>\n",
       "    </tr>\n",
       "    <tr>\n",
       "      <th>3</th>\n",
       "      <td>PRIO3</td>\n",
       "      <td>8.54</td>\n",
       "      <td>0.0015</td>\n",
       "      <td>3.19</td>\n",
       "      <td>0.3732</td>\n",
       "    </tr>\n",
       "    <tr>\n",
       "      <th>4</th>\n",
       "      <td>RAIL3</td>\n",
       "      <td>53.69</td>\n",
       "      <td>0.0000</td>\n",
       "      <td>2.47</td>\n",
       "      <td>0.0459</td>\n",
       "    </tr>\n",
       "  </tbody>\n",
       "</table>\n",
       "</div>"
      ],
      "text/plain": [
       "Multiples  Ativo    P/L      DY  P/VP     ROE\n",
       "0          ASAI3  26.32  0.0000  3.91  0.1486\n",
       "1          EQTL3  17.13  0.0000  1.69  0.0984\n",
       "2          LREN3  15.48  0.0434  1.50  0.0972\n",
       "3          PRIO3   8.54  0.0015  3.19  0.3732\n",
       "4          RAIL3  53.69  0.0000  2.47  0.0459"
      ]
     },
     "execution_count": 9,
     "metadata": {},
     "output_type": "execute_result"
    }
   ],
   "source": [
    "ind_2 = fundamentus.get_resultado_raw().reset_index()\n",
    "ind_2 = ind_2.query('papel in @carteira_fund')\n",
    "\n",
    "ind_2 = ind_2[['papel','P/L', 'Div.Yield','P/VP','ROE']].reset_index(drop = True)\n",
    "ind_2 = ind_2.rename(columns = {'papel': 'Ativo', 'Div.Yield': 'DY'})\n",
    "ind_2.head()"
   ]
  },
  {
   "cell_type": "code",
   "execution_count": 10,
   "metadata": {},
   "outputs": [
    {
     "data": {
      "text/html": [
       "<div>\n",
       "<style scoped>\n",
       "    .dataframe tbody tr th:only-of-type {\n",
       "        vertical-align: middle;\n",
       "    }\n",
       "\n",
       "    .dataframe tbody tr th {\n",
       "        vertical-align: top;\n",
       "    }\n",
       "\n",
       "    .dataframe thead th {\n",
       "        text-align: right;\n",
       "    }\n",
       "</style>\n",
       "<table border=\"1\" class=\"dataframe\">\n",
       "  <thead>\n",
       "    <tr style=\"text-align: right;\">\n",
       "      <th></th>\n",
       "      <th>Ativo</th>\n",
       "      <th>Setor</th>\n",
       "      <th>Cotacao</th>\n",
       "      <th>Min_52_sem</th>\n",
       "      <th>Max_52_sem</th>\n",
       "      <th>Valor_de_mercado</th>\n",
       "      <th>Nro_Acoes</th>\n",
       "      <th>Patrim_Liq</th>\n",
       "      <th>Receita_Liquida_12m</th>\n",
       "      <th>Receita_Liquida_3m</th>\n",
       "      <th>Lucro_Liquido_12m</th>\n",
       "      <th>Lucro_Liquido_3m</th>\n",
       "      <th>P/L</th>\n",
       "      <th>DY</th>\n",
       "      <th>P/VP</th>\n",
       "      <th>ROE</th>\n",
       "      <th>LPA</th>\n",
       "      <th>VPA</th>\n",
       "    </tr>\n",
       "  </thead>\n",
       "  <tbody>\n",
       "    <tr>\n",
       "      <th>0</th>\n",
       "      <td>ASAI3</td>\n",
       "      <td>Comércio e Distribuição</td>\n",
       "      <td>13.59</td>\n",
       "      <td>10.50</td>\n",
       "      <td>14.93</td>\n",
       "      <td>1.837140e+10</td>\n",
       "      <td>1.351830e+09</td>\n",
       "      <td>4.698000e+09</td>\n",
       "      <td>6.862900e+10</td>\n",
       "      <td>1.722200e+10</td>\n",
       "      <td>6.980000e+08</td>\n",
       "      <td>6.000000e+07</td>\n",
       "      <td>26.32</td>\n",
       "      <td>0.0000</td>\n",
       "      <td>3.91</td>\n",
       "      <td>0.1486</td>\n",
       "      <td>0.52</td>\n",
       "      <td>3.48</td>\n",
       "    </tr>\n",
       "    <tr>\n",
       "      <th>1</th>\n",
       "      <td>EQTL3</td>\n",
       "      <td>Energia Elétrica</td>\n",
       "      <td>31.00</td>\n",
       "      <td>26.40</td>\n",
       "      <td>35.83</td>\n",
       "      <td>3.556040e+10</td>\n",
       "      <td>1.147110e+09</td>\n",
       "      <td>2.109320e+10</td>\n",
       "      <td>4.098510e+10</td>\n",
       "      <td>1.124550e+10</td>\n",
       "      <td>2.075590e+09</td>\n",
       "      <td>6.741850e+08</td>\n",
       "      <td>17.13</td>\n",
       "      <td>0.0000</td>\n",
       "      <td>1.69</td>\n",
       "      <td>0.0984</td>\n",
       "      <td>1.81</td>\n",
       "      <td>18.39</td>\n",
       "    </tr>\n",
       "    <tr>\n",
       "      <th>2</th>\n",
       "      <td>LREN3</td>\n",
       "      <td>Comércio</td>\n",
       "      <td>15.69</td>\n",
       "      <td>11.74</td>\n",
       "      <td>22.02</td>\n",
       "      <td>1.511300e+10</td>\n",
       "      <td>9.632270e+08</td>\n",
       "      <td>1.004720e+10</td>\n",
       "      <td>1.364780e+10</td>\n",
       "      <td>4.271380e+09</td>\n",
       "      <td>9.762590e+08</td>\n",
       "      <td>5.268910e+08</td>\n",
       "      <td>15.48</td>\n",
       "      <td>0.0434</td>\n",
       "      <td>1.50</td>\n",
       "      <td>0.0972</td>\n",
       "      <td>1.01</td>\n",
       "      <td>10.43</td>\n",
       "    </tr>\n",
       "    <tr>\n",
       "      <th>3</th>\n",
       "      <td>PRIO3</td>\n",
       "      <td>Petróleo, Gás e Biocombustíveis</td>\n",
       "      <td>49.56</td>\n",
       "      <td>32.65</td>\n",
       "      <td>50.86</td>\n",
       "      <td>4.421050e+10</td>\n",
       "      <td>8.920600e+08</td>\n",
       "      <td>1.387830e+10</td>\n",
       "      <td>1.190500e+10</td>\n",
       "      <td>2.733390e+09</td>\n",
       "      <td>5.179910e+09</td>\n",
       "      <td>1.548050e+09</td>\n",
       "      <td>8.54</td>\n",
       "      <td>0.0015</td>\n",
       "      <td>3.19</td>\n",
       "      <td>0.3732</td>\n",
       "      <td>5.81</td>\n",
       "      <td>15.56</td>\n",
       "    </tr>\n",
       "    <tr>\n",
       "      <th>4</th>\n",
       "      <td>RAIL3</td>\n",
       "      <td>Transporte</td>\n",
       "      <td>20.83</td>\n",
       "      <td>19.68</td>\n",
       "      <td>24.09</td>\n",
       "      <td>3.863690e+10</td>\n",
       "      <td>1.854870e+09</td>\n",
       "      <td>1.567140e+10</td>\n",
       "      <td>1.093770e+10</td>\n",
       "      <td>2.615700e+09</td>\n",
       "      <td>7.196660e+08</td>\n",
       "      <td>-1.689030e+06</td>\n",
       "      <td>53.69</td>\n",
       "      <td>0.0000</td>\n",
       "      <td>2.47</td>\n",
       "      <td>0.0459</td>\n",
       "      <td>0.39</td>\n",
       "      <td>8.45</td>\n",
       "    </tr>\n",
       "    <tr>\n",
       "      <th>5</th>\n",
       "      <td>RDOR3</td>\n",
       "      <td>Serv.Méd.Hospit. Análises e Diagnósticos</td>\n",
       "      <td>26.46</td>\n",
       "      <td>21.40</td>\n",
       "      <td>36.36</td>\n",
       "      <td>6.057470e+10</td>\n",
       "      <td>2.289290e+09</td>\n",
       "      <td>2.253970e+10</td>\n",
       "      <td>4.650860e+10</td>\n",
       "      <td>1.184250e+10</td>\n",
       "      <td>2.040720e+09</td>\n",
       "      <td>7.681560e+08</td>\n",
       "      <td>29.68</td>\n",
       "      <td>0.0190</td>\n",
       "      <td>2.69</td>\n",
       "      <td>0.0905</td>\n",
       "      <td>0.89</td>\n",
       "      <td>9.85</td>\n",
       "    </tr>\n",
       "    <tr>\n",
       "      <th>6</th>\n",
       "      <td>SBSP3</td>\n",
       "      <td>Água e Saneamento</td>\n",
       "      <td>82.36</td>\n",
       "      <td>43.47</td>\n",
       "      <td>83.70</td>\n",
       "      <td>5.629390e+10</td>\n",
       "      <td>6.835100e+08</td>\n",
       "      <td>2.985740e+10</td>\n",
       "      <td>2.557210e+10</td>\n",
       "      <td>7.265900e+09</td>\n",
       "      <td>3.523530e+09</td>\n",
       "      <td>1.186280e+09</td>\n",
       "      <td>15.98</td>\n",
       "      <td>0.0000</td>\n",
       "      <td>1.89</td>\n",
       "      <td>0.1180</td>\n",
       "      <td>5.16</td>\n",
       "      <td>43.68</td>\n",
       "    </tr>\n",
       "    <tr>\n",
       "      <th>7</th>\n",
       "      <td>VIVT3</td>\n",
       "      <td>Telecomunicações</td>\n",
       "      <td>47.93</td>\n",
       "      <td>38.23</td>\n",
       "      <td>55.29</td>\n",
       "      <td>7.920850e+10</td>\n",
       "      <td>1.652590e+09</td>\n",
       "      <td>6.956680e+10</td>\n",
       "      <td>5.210020e+10</td>\n",
       "      <td>1.353470e+10</td>\n",
       "      <td>5.029390e+09</td>\n",
       "      <td>1.600650e+09</td>\n",
       "      <td>15.75</td>\n",
       "      <td>0.0505</td>\n",
       "      <td>1.14</td>\n",
       "      <td>0.0723</td>\n",
       "      <td>3.04</td>\n",
       "      <td>42.10</td>\n",
       "    </tr>\n",
       "  </tbody>\n",
       "</table>\n",
       "</div>"
      ],
      "text/plain": [
       "   Ativo                                     Setor  Cotacao  Min_52_sem  \\\n",
       "0  ASAI3                   Comércio e Distribuição    13.59       10.50   \n",
       "1  EQTL3                          Energia Elétrica    31.00       26.40   \n",
       "2  LREN3                                  Comércio    15.69       11.74   \n",
       "3  PRIO3           Petróleo, Gás e Biocombustíveis    49.56       32.65   \n",
       "4  RAIL3                                Transporte    20.83       19.68   \n",
       "5  RDOR3  Serv.Méd.Hospit. Análises e Diagnósticos    26.46       21.40   \n",
       "6  SBSP3                         Água e Saneamento    82.36       43.47   \n",
       "7  VIVT3                          Telecomunicações    47.93       38.23   \n",
       "\n",
       "   Max_52_sem  Valor_de_mercado     Nro_Acoes    Patrim_Liq  \\\n",
       "0       14.93      1.837140e+10  1.351830e+09  4.698000e+09   \n",
       "1       35.83      3.556040e+10  1.147110e+09  2.109320e+10   \n",
       "2       22.02      1.511300e+10  9.632270e+08  1.004720e+10   \n",
       "3       50.86      4.421050e+10  8.920600e+08  1.387830e+10   \n",
       "4       24.09      3.863690e+10  1.854870e+09  1.567140e+10   \n",
       "5       36.36      6.057470e+10  2.289290e+09  2.253970e+10   \n",
       "6       83.70      5.629390e+10  6.835100e+08  2.985740e+10   \n",
       "7       55.29      7.920850e+10  1.652590e+09  6.956680e+10   \n",
       "\n",
       "   Receita_Liquida_12m  Receita_Liquida_3m  Lucro_Liquido_12m  \\\n",
       "0         6.862900e+10        1.722200e+10       6.980000e+08   \n",
       "1         4.098510e+10        1.124550e+10       2.075590e+09   \n",
       "2         1.364780e+10        4.271380e+09       9.762590e+08   \n",
       "3         1.190500e+10        2.733390e+09       5.179910e+09   \n",
       "4         1.093770e+10        2.615700e+09       7.196660e+08   \n",
       "5         4.650860e+10        1.184250e+10       2.040720e+09   \n",
       "6         2.557210e+10        7.265900e+09       3.523530e+09   \n",
       "7         5.210020e+10        1.353470e+10       5.029390e+09   \n",
       "\n",
       "   Lucro_Liquido_3m    P/L      DY  P/VP     ROE   LPA    VPA  \n",
       "0      6.000000e+07  26.32  0.0000  3.91  0.1486  0.52   3.48  \n",
       "1      6.741850e+08  17.13  0.0000  1.69  0.0984  1.81  18.39  \n",
       "2      5.268910e+08  15.48  0.0434  1.50  0.0972  1.01  10.43  \n",
       "3      1.548050e+09   8.54  0.0015  3.19  0.3732  5.81  15.56  \n",
       "4     -1.689030e+06  53.69  0.0000  2.47  0.0459  0.39   8.45  \n",
       "5      7.681560e+08  29.68  0.0190  2.69  0.0905  0.89   9.85  \n",
       "6      1.186280e+09  15.98  0.0000  1.89  0.1180  5.16  43.68  \n",
       "7      1.600650e+09  15.75  0.0505  1.14  0.0723  3.04  42.10  "
      ]
     },
     "execution_count": 10,
     "metadata": {},
     "output_type": "execute_result"
    }
   ],
   "source": [
    "indicadores = pd.merge(ind, ind_2, on = 'Ativo')\n",
    "\n",
    "indicadores['LPA'] = (indicadores['Lucro_Liquido_12m'] / indicadores['Nro_Acoes']).round(2)\n",
    "indicadores['VPA'] = (indicadores['Patrim_Liq'] / indicadores['Nro_Acoes']).round(2)\n",
    "indicadores"
   ]
  },
  {
   "cell_type": "markdown",
   "metadata": {
    "id": "1uTAdILB_T6m"
   },
   "source": [
    "## Aula 03 - Transformando os dados"
   ]
  },
  {
   "cell_type": "markdown",
   "metadata": {
    "id": "SsQ3DvzR_t-L"
   },
   "source": [
    "### Desafio 1"
   ]
  },
  {
   "cell_type": "code",
   "execution_count": null,
   "metadata": {
    "id": "bIoMVk5r_t-Q"
   },
   "outputs": [],
   "source": []
  },
  {
   "cell_type": "code",
   "execution_count": null,
   "metadata": {
    "id": "wcdivkfa_t-Q"
   },
   "outputs": [],
   "source": []
  },
  {
   "cell_type": "code",
   "execution_count": null,
   "metadata": {
    "id": "0lEwT00p_t-Q"
   },
   "outputs": [],
   "source": []
  },
  {
   "cell_type": "code",
   "execution_count": null,
   "metadata": {
    "id": "vm2Tkhh9_t-Q"
   },
   "outputs": [],
   "source": []
  },
  {
   "cell_type": "markdown",
   "metadata": {
    "id": "Yp_qiA4v_t-R"
   },
   "source": [
    "### Desafio 2"
   ]
  },
  {
   "cell_type": "code",
   "execution_count": null,
   "metadata": {
    "id": "iH1gyn0h_t-R"
   },
   "outputs": [],
   "source": []
  },
  {
   "cell_type": "code",
   "execution_count": null,
   "metadata": {
    "id": "Izoq3lng_t-R"
   },
   "outputs": [],
   "source": []
  },
  {
   "cell_type": "code",
   "execution_count": null,
   "metadata": {
    "id": "ntwcxSzc_t-R"
   },
   "outputs": [],
   "source": []
  },
  {
   "cell_type": "code",
   "execution_count": null,
   "metadata": {
    "id": "Ftec-l7d_t-R"
   },
   "outputs": [],
   "source": []
  },
  {
   "cell_type": "markdown",
   "metadata": {
    "id": "A6PaeqSE_UDF"
   },
   "source": [
    "## Aula 05 - Visuais Python no Power BI"
   ]
  },
  {
   "cell_type": "markdown",
   "metadata": {
    "id": "fH6a9l5H_vNT"
   },
   "source": [
    "### Desafio 3"
   ]
  },
  {
   "cell_type": "code",
   "execution_count": null,
   "metadata": {
    "id": "4JaGwLM0_vNT"
   },
   "outputs": [],
   "source": []
  },
  {
   "cell_type": "code",
   "execution_count": null,
   "metadata": {
    "id": "SRgeAXfO_vNT"
   },
   "outputs": [],
   "source": []
  },
  {
   "cell_type": "code",
   "execution_count": null,
   "metadata": {
    "id": "DdV7Q-Ae_vNT"
   },
   "outputs": [],
   "source": []
  },
  {
   "cell_type": "code",
   "execution_count": null,
   "metadata": {
    "id": "d_5WfdSq_vNT"
   },
   "outputs": [],
   "source": []
  }
 ],
 "metadata": {
  "colab": {
   "provenance": []
  },
  "kernelspec": {
   "display_name": "Python 3 (ipykernel)",
   "language": "python",
   "name": "python3"
  },
  "language_info": {
   "codemirror_mode": {
    "name": "ipython",
    "version": 3
   },
   "file_extension": ".py",
   "mimetype": "text/x-python",
   "name": "python",
   "nbconvert_exporter": "python",
   "pygments_lexer": "ipython3",
   "version": "3.11.4"
  }
 },
 "nbformat": 4,
 "nbformat_minor": 1
}
