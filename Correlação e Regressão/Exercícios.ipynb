{
 "cells": [
  {
   "cell_type": "markdown",
   "id": "f5a1127e-2e28-48bd-9f3c-b37c68f7023d",
   "metadata": {},
   "source": [
    "#### 1 - Temos o número de domicílios que possuem computador (Y) e a renda total recebida por pessoas de 10 anos ou mais (X), em cada um dos estados brasileiros.\n",
    "\n",
    "#### Acredita-se que a posse de computadores tenha uma relação linear com a renda das famílias e para comprovar isso, podemos estimar uma regressão linear com os dados acima e avaliar os resultados obtidos.\n",
    "\n",
    "#### Neste problema, precisamos, inicialmente, obter as estimativas dos parâmetros de regressão.\n",
    "\n",
    "#### Informações extras:\n",
    "\n",
    "#### O valor da renda está dividido por 1.000.000, isto é, se um estado tem uma renda total de R$ 4,2, significa que ele tem uma renda total de R$ 4.200.000.\n",
    "\n",
    "#### Utilize o ferramental do statsmodels para obter os parâmetros.\n",
    "\n",
    "#### Segue o dataset em formato de dicionário Python para facilitar a solução do problema:"
   ]
  },
  {
   "cell_type": "code",
   "execution_count": 9,
   "id": "c23cefd9-2976-4911-969b-7ecdb79e35ed",
   "metadata": {},
   "outputs": [],
   "source": [
    "dataset = {\n",
    "    'Y': [670, 220, 1202, 188, 1869, 248, 477, 1294, 816, 2671, 1403, 1586, 3468, 973, 701, 5310, 10950, 2008, 9574, 28863, 6466, 4274, 6432, 1326, 1423, 3211, 2140], \n",
    "    'X': [1.59, 0.56, 2.68, 0.47, 5.2, 0.58, 1.32, 3.88, 2.11, 5.53, 2.6, 2.94, 6.62, 1.91, 1.48, 10.64, 22.39, 4.2, 21.9, 59.66, 14.22, 9.57, 14.67, 3.28, 3.49, 6.94, 6.25]\n",
    "}"
   ]
  },
  {
   "cell_type": "code",
   "execution_count": 4,
   "id": "3546c8b7-8a9a-4c22-8b6a-d135392c4dfc",
   "metadata": {},
   "outputs": [],
   "source": [
    "import pandas as pd\n",
    "import statsmodels.api as sm\n",
    "import numpy as np"
   ]
  },
  {
   "cell_type": "code",
   "execution_count": 10,
   "id": "a291639b-20f6-401a-9572-c4cf4562ca77",
   "metadata": {},
   "outputs": [
    {
     "data": {
      "text/html": [
       "<div>\n",
       "<style scoped>\n",
       "    .dataframe tbody tr th:only-of-type {\n",
       "        vertical-align: middle;\n",
       "    }\n",
       "\n",
       "    .dataframe tbody tr th {\n",
       "        vertical-align: top;\n",
       "    }\n",
       "\n",
       "    .dataframe thead th {\n",
       "        text-align: right;\n",
       "    }\n",
       "</style>\n",
       "<table border=\"1\" class=\"dataframe\">\n",
       "  <thead>\n",
       "    <tr style=\"text-align: right;\">\n",
       "      <th></th>\n",
       "      <th>Y</th>\n",
       "      <th>X</th>\n",
       "    </tr>\n",
       "  </thead>\n",
       "  <tbody>\n",
       "    <tr>\n",
       "      <th>0</th>\n",
       "      <td>670</td>\n",
       "      <td>1.59</td>\n",
       "    </tr>\n",
       "    <tr>\n",
       "      <th>1</th>\n",
       "      <td>220</td>\n",
       "      <td>0.56</td>\n",
       "    </tr>\n",
       "    <tr>\n",
       "      <th>2</th>\n",
       "      <td>1202</td>\n",
       "      <td>2.68</td>\n",
       "    </tr>\n",
       "    <tr>\n",
       "      <th>3</th>\n",
       "      <td>188</td>\n",
       "      <td>0.47</td>\n",
       "    </tr>\n",
       "    <tr>\n",
       "      <th>4</th>\n",
       "      <td>1869</td>\n",
       "      <td>5.20</td>\n",
       "    </tr>\n",
       "  </tbody>\n",
       "</table>\n",
       "</div>"
      ],
      "text/plain": [
       "      Y     X\n",
       "0   670  1.59\n",
       "1   220  0.56\n",
       "2  1202  2.68\n",
       "3   188  0.47\n",
       "4  1869  5.20"
      ]
     },
     "execution_count": 10,
     "metadata": {},
     "output_type": "execute_result"
    }
   ],
   "source": [
    "dataset = pd.DataFrame(dataset)\n",
    "dataset.head()"
   ]
  },
  {
   "cell_type": "code",
   "execution_count": 11,
   "id": "26473325-a0ba-4659-be20-c86f9dab541c",
   "metadata": {},
   "outputs": [],
   "source": [
    "Y = dataset['Y']\n",
    "X = sm.add_constant(dataset['X'])"
   ]
  },
  {
   "cell_type": "code",
   "execution_count": 12,
   "id": "e957b9b7-9d0f-49bf-a346-d76ffafc94f6",
   "metadata": {},
   "outputs": [],
   "source": [
    "regressao = sm.OLS(Y, X).fit()"
   ]
  },
  {
   "cell_type": "code",
   "execution_count": 13,
   "id": "a64b2d14-8070-4495-97cb-4547e4044014",
   "metadata": {},
   "outputs": [
    {
     "data": {
      "text/plain": [
       "const   -168.321156\n",
       "X        481.390397\n",
       "dtype: float64"
      ]
     },
     "execution_count": 13,
     "metadata": {},
     "output_type": "execute_result"
    }
   ],
   "source": [
    "regressao.params"
   ]
  },
  {
   "cell_type": "code",
   "execution_count": 14,
   "id": "50c95cd7-98ef-44af-82bc-95966aaeaef8",
   "metadata": {},
   "outputs": [
    {
     "name": "stdout",
     "output_type": "stream",
     "text": [
      "-168.32115590461154\n",
      "481.3903969421477\n"
     ]
    },
    {
     "name": "stderr",
     "output_type": "stream",
     "text": [
      "C:\\Users\\Giuliano\\AppData\\Local\\Temp\\ipykernel_6524\\913308677.py:1: FutureWarning: Series.__getitem__ treating keys as positions is deprecated. In a future version, integer keys will always be treated as labels (consistent with DataFrame behavior). To access a value by position, use `ser.iloc[pos]`\n",
      "  beta_1 = regressao.params[0]\n",
      "C:\\Users\\Giuliano\\AppData\\Local\\Temp\\ipykernel_6524\\913308677.py:2: FutureWarning: Series.__getitem__ treating keys as positions is deprecated. In a future version, integer keys will always be treated as labels (consistent with DataFrame behavior). To access a value by position, use `ser.iloc[pos]`\n",
      "  beta_2 = regressao.params[1]\n"
     ]
    }
   ],
   "source": [
    "beta_1 = regressao.params[0]\n",
    "beta_2 = regressao.params[1]\n",
    "\n",
    "print(beta_1)\n",
    "print(beta_2)"
   ]
  },
  {
   "cell_type": "markdown",
   "id": "421544fd-cc8d-4ee9-b520-cd611b9897fb",
   "metadata": {},
   "source": [
    "#### 2 - Considerando os dados do problema anterior, onde se acredita que a posse de computadores tenha uma relação linear com a renda das famílias, após estimarmos o modelo (problema anterior), suponha que seja criado um estado e que este apresente uma renda total de R$ 2.345.678.\n",
    "\n",
    "#### Informações extras:\n",
    "\n",
    "#### O valor da renda está dividido por 1.000.000, isto é, se um estado tem uma renda total de R$ 4,2, significa que ele tem uma renda total de R$ 4.200.000.\n",
    "\n",
    "#### Utilize o ferramental do statsmodels para solucionar o problema.\n",
    "\n",
    "#### Segue o dataset em formato de dicionário Python para facilitar a solução do problema:"
   ]
  },
  {
   "cell_type": "code",
   "execution_count": 16,
   "id": "11b1a0c2-a420-4786-9fb0-4093bbd00a5e",
   "metadata": {},
   "outputs": [],
   "source": [
    "dataset = {\n",
    "    'Y': [670, 220, 1202, 188, 1869, 248, 477, 1294, 816, 2671, 1403, 1586, 3468, 973, 701, 5310, 10950, 2008, 9574, 28863, 6466, 4274, 6432, 1326, 1423, 3211, 2140], \n",
    "    'X': [1.59, 0.56, 2.68, 0.47, 5.2, 0.58, 1.32, 3.88, 2.11, 5.53, 2.6, 2.94, 6.62, 1.91, 1.48, 10.64, 22.39, 4.2, 21.9, 59.66, 14.22, 9.57, 14.67, 3.28, 3.49, 6.94, 6.25]\n",
    "}"
   ]
  },
  {
   "cell_type": "markdown",
   "id": "595fc779-7fe8-41d8-9a64-8103fa072171",
   "metadata": {},
   "source": [
    "#### * Y é o número de domicílios que possuem computador\n",
    "#### * X é a renda total recebida por pessoas de 10 anos ou mais, em cada um dos estados brasileiros\n",
    "#### Assinale a alternativa que apresenta a previsão (valor arredondado) para o número de domicílios que possuem computador neste novo estado da federação."
   ]
  },
  {
   "cell_type": "code",
   "execution_count": 18,
   "id": "be61ec16-da1e-4bff-94d6-3450691ddc81",
   "metadata": {},
   "outputs": [
    {
     "data": {
      "text/plain": [
       "960.8657076138516"
      ]
     },
     "execution_count": 18,
     "metadata": {},
     "output_type": "execute_result"
    }
   ],
   "source": [
    "regressao.predict([1, 2345678 / 1000000])[0]"
   ]
  },
  {
   "cell_type": "markdown",
   "id": "b25039d8-048a-4fc6-8190-c1883cafaeb0",
   "metadata": {},
   "source": [
    "#### 3 - Considerando os dados do problema proposto em exercícios anteriores, onde se acredita que a posse de computadores tenha uma relação linear com a renda das famílias.\n",
    "\n",
    "#### Informações extras:\n",
    "\n",
    "#### O valor da renda está dividido por 1.000.000, isto é, se um estado tem uma renda total de R$ 4,2, significa que ele tem uma renda total de R$ 4.200.000.\n",
    "\n",
    "#### Utilize o ferramental do statsmodels para solucionar o problema.\n",
    "\n",
    "#### Segue o dataset em formato de dicionário Python para facilitar a solução do problema:"
   ]
  },
  {
   "cell_type": "code",
   "execution_count": 2,
   "id": "2defc3c9-7f21-493d-ab82-1dddc9a8c364",
   "metadata": {},
   "outputs": [],
   "source": [
    "dataset = {\n",
    "    'Y': [670, 220, 1202, 188, 1869, 248, 477, 1294, 816, 2671, 1403, 1586, 3468, 973, 701, 5310, 10950, 2008, 9574, 28863, 6466, 4274, 6432, 1326, 1423, 3211, 2140], \n",
    "    'X': [1.59, 0.56, 2.68, 0.47, 5.2, 0.58, 1.32, 3.88, 2.11, 5.53, 2.6, 2.94, 6.62, 1.91, 1.48, 10.64, 22.39, 4.2, 21.9, 59.66, 14.22, 9.57, 14.67, 3.28, 3.49, 6.94, 6.25]\n",
    "}"
   ]
  },
  {
   "cell_type": "markdown",
   "id": "256d75e0-f445-477f-b9e8-e483a211d6ce",
   "metadata": {},
   "source": [
    "#### *Y é o número de domicílios que possuem computador\n",
    "#### *X é a renda total recebida por pessoas de 10 anos ou mais, em cada um dos estados brasileiros\n",
    "#### Assinale a alternativa que apresenta o valor do R² obtido de nossa regressão linear."
   ]
  },
  {
   "cell_type": "code",
   "execution_count": 5,
   "id": "76b9ab7a-10d4-4313-a324-bb9e3773c3cf",
   "metadata": {},
   "outputs": [
    {
     "data": {
      "text/html": [
       "<div>\n",
       "<style scoped>\n",
       "    .dataframe tbody tr th:only-of-type {\n",
       "        vertical-align: middle;\n",
       "    }\n",
       "\n",
       "    .dataframe tbody tr th {\n",
       "        vertical-align: top;\n",
       "    }\n",
       "\n",
       "    .dataframe thead th {\n",
       "        text-align: right;\n",
       "    }\n",
       "</style>\n",
       "<table border=\"1\" class=\"dataframe\">\n",
       "  <thead>\n",
       "    <tr style=\"text-align: right;\">\n",
       "      <th></th>\n",
       "      <th>Y</th>\n",
       "      <th>X</th>\n",
       "    </tr>\n",
       "  </thead>\n",
       "  <tbody>\n",
       "    <tr>\n",
       "      <th>0</th>\n",
       "      <td>670</td>\n",
       "      <td>1.59</td>\n",
       "    </tr>\n",
       "    <tr>\n",
       "      <th>1</th>\n",
       "      <td>220</td>\n",
       "      <td>0.56</td>\n",
       "    </tr>\n",
       "    <tr>\n",
       "      <th>2</th>\n",
       "      <td>1202</td>\n",
       "      <td>2.68</td>\n",
       "    </tr>\n",
       "    <tr>\n",
       "      <th>3</th>\n",
       "      <td>188</td>\n",
       "      <td>0.47</td>\n",
       "    </tr>\n",
       "    <tr>\n",
       "      <th>4</th>\n",
       "      <td>1869</td>\n",
       "      <td>5.20</td>\n",
       "    </tr>\n",
       "  </tbody>\n",
       "</table>\n",
       "</div>"
      ],
      "text/plain": [
       "      Y     X\n",
       "0   670  1.59\n",
       "1   220  0.56\n",
       "2  1202  2.68\n",
       "3   188  0.47\n",
       "4  1869  5.20"
      ]
     },
     "execution_count": 5,
     "metadata": {},
     "output_type": "execute_result"
    }
   ],
   "source": [
    "dataset = pd.DataFrame(dataset)\n",
    "dataset.head()"
   ]
  },
  {
   "cell_type": "code",
   "execution_count": 7,
   "id": "d63c0d25-662d-4702-b945-610badda4f72",
   "metadata": {},
   "outputs": [],
   "source": [
    "Y = dataset['Y']\n",
    "X = sm.add_constant(dataset['X'])"
   ]
  },
  {
   "cell_type": "code",
   "execution_count": 10,
   "id": "c2f1749e-d33f-4672-bab1-1fd222f78fbe",
   "metadata": {},
   "outputs": [],
   "source": [
    "regressao = sm.OLS(Y, X, missing = 'drop').fit()"
   ]
  },
  {
   "cell_type": "code",
   "execution_count": 11,
   "id": "3a25d25b-18bb-4204-a8b1-9a85904de9a1",
   "metadata": {},
   "outputs": [
    {
     "data": {
      "text/plain": [
       "0.9967917066613234"
      ]
     },
     "execution_count": 11,
     "metadata": {},
     "output_type": "execute_result"
    }
   ],
   "source": [
    "r2 = regressao.rsquared\n",
    "r2"
   ]
  },
  {
   "cell_type": "code",
   "execution_count": null,
   "id": "074a496c-225c-497f-b62d-094c7fbc2b2e",
   "metadata": {},
   "outputs": [],
   "source": []
  }
 ],
 "metadata": {
  "kernelspec": {
   "display_name": "Python 3 (ipykernel)",
   "language": "python",
   "name": "python3"
  },
  "language_info": {
   "codemirror_mode": {
    "name": "ipython",
    "version": 3
   },
   "file_extension": ".py",
   "mimetype": "text/x-python",
   "name": "python",
   "nbconvert_exporter": "python",
   "pygments_lexer": "ipython3",
   "version": "3.11.5"
  }
 },
 "nbformat": 4,
 "nbformat_minor": 5
}
