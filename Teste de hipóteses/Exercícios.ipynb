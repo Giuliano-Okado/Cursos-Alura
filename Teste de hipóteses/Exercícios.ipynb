{
 "cells": [
  {
   "cell_type": "code",
   "execution_count": null,
   "id": "563b3ab9-9fd8-4bb2-a925-398b4dc61cf6",
   "metadata": {},
   "outputs": [],
   "source": [
    "### Importando as bibliotecas"
   ]
  },
  {
   "cell_type": "code",
   "execution_count": 60,
   "id": "a8bb1d8c-41fa-44d5-bf17-75398ff308ed",
   "metadata": {},
   "outputs": [],
   "source": [
    "import pandas as pd\n",
    "import numpy as np\n",
    "from scipy.stats import norm\n",
    "from scipy.stats import t as t_student\n",
    "from scipy.stats import chi\n",
    "from scipy.stats import wilcoxon"
   ]
  },
  {
   "cell_type": "markdown",
   "id": "fe121cd3-4a3b-4aa5-93f0-5d7929c4131a",
   "metadata": {},
   "source": [
    "#### 1 - Um fabricante de farinha afirma que a quantidade média de farinha nas embalagens de seu principal produto é de 500 g. Um teste de pesagem em 30 embalagens amostradas ao acaso mostrou um peso médio igual à 485 g. Estudos anteriores afirmam que a distribuição dos pesos segue uma distribuição normal e que o desvio padrão populacional é igual a 20 g. Considerando um nível de significância igual a 5%, responda as seguintes questões:\n",
    "1) Qual a hipótese nula a ser testada?\r\n",
    "\r\n",
    "2) Qual o valor da estatística de teste?\r\n",
    "\r\n",
    "3) Qual a conclusão do teste?"
   ]
  },
  {
   "cell_type": "markdown",
   "id": "9c795197-6cfd-4749-bb4d-ea320de8a525",
   "metadata": {},
   "source": [
    "1) H0: mu = 500"
   ]
  },
  {
   "cell_type": "code",
   "execution_count": 4,
   "id": "27612f84-8e49-47e6-9250-ca7230c62b21",
   "metadata": {},
   "outputs": [
    {
     "data": {
      "text/plain": [
       "-4.107919181288746"
      ]
     },
     "execution_count": 4,
     "metadata": {},
     "output_type": "execute_result"
    }
   ],
   "source": [
    "significancia = 0.05\n",
    "confianca = 1 - significancia\n",
    "media_amostra = 485\n",
    "media = 500\n",
    "n = 30\n",
    "sigma = 20\n",
    "\n",
    "probabilidade = 0.5 + confianca/2\n",
    "z_alpha_2 = norm.ppf(probabilidade)\n",
    "\n",
    "z = (media_amostra - media) / (sigma / np.sqrt(n))\n",
    "z"
   ]
  },
  {
   "cell_type": "code",
   "execution_count": 6,
   "id": "80e164a6-4fb9-4003-930b-60d757b8e846",
   "metadata": {},
   "outputs": [
    {
     "data": {
      "text/plain": [
       "True"
      ]
     },
     "execution_count": 6,
     "metadata": {},
     "output_type": "execute_result"
    }
   ],
   "source": [
    "z <= -z_alpha_2"
   ]
  },
  {
   "cell_type": "code",
   "execution_count": 7,
   "id": "f0eea640-2d95-4fcb-90aa-ff59aba93a38",
   "metadata": {},
   "outputs": [
    {
     "data": {
      "text/plain": [
       "False"
      ]
     },
     "execution_count": 7,
     "metadata": {},
     "output_type": "execute_result"
    }
   ],
   "source": [
    "z >= z_alpha_2"
   ]
  },
  {
   "cell_type": "markdown",
   "id": "0ed79b10-f53d-46ba-8a75-b4b0f314b99b",
   "metadata": {},
   "source": [
    "#### 2 - Considere novamente os dados do exercício anterior. Um fabricante de farinha afirma que a quantidade média de farinha nas embalagens de seu principal produto é de 500 g. Um teste de pesagem em 30 embalagens amostradas ao acaso mostrou um peso médio igual à 485 g. Estudos anteriores afirmam que a distribuição dos pesos segue uma normal e que o desvio padrão populacional é igual a 20 g. Com um nível de significância igual a 5%, teste a hipótese nula de que a média do processo é igual a 500 g e marque a alternativa que indica o p-valor do teste aplicado (considere somente 5 casas decimais)."
   ]
  },
  {
   "cell_type": "code",
   "execution_count": 15,
   "id": "f3cec17f-2a40-4f63-976e-5211e71e6290",
   "metadata": {},
   "outputs": [
    {
     "data": {
      "text/plain": [
       "3.992397476901338e-05"
      ]
     },
     "execution_count": 15,
     "metadata": {},
     "output_type": "execute_result"
    }
   ],
   "source": [
    "p_valor = 2 * norm.cdf(z)\n",
    "p_valor"
   ]
  },
  {
   "cell_type": "markdown",
   "id": "89c818bb-5671-4e88-88d2-e231d884ca55",
   "metadata": {},
   "source": [
    "#### 3 - A empresa Limpa Esgoto garante ser capaz de realizar o tratamento de esgoto e obter, no máximo, 150 g de impurezas para cada mil litros de esgoto tratado. Vinte amostras de mil litros de esgoto apresentaram, em média, 230 g de impurezas e desvio padrão amostral igual a 90 g.\n",
    "\n",
    "Assumindo alfa igual a 5% e população normalmente distribuída, seria possível discordar da empresa Limpa Esgoto? Assinale a alternativa que apresenta a estatística de teste e a decisão correta do teste.\n",
    "\n",
    "Selecione uma alternativa"
   ]
  },
  {
   "cell_type": "code",
   "execution_count": 19,
   "id": "a8ffd228-1f21-438e-9183-aebeeb3acbee",
   "metadata": {},
   "outputs": [
    {
     "data": {
      "text/plain": [
       "1.729132811521367"
      ]
     },
     "execution_count": 19,
     "metadata": {},
     "output_type": "execute_result"
    }
   ],
   "source": [
    "# H0 <= 150, H1 > 150\n",
    "media = 150\n",
    "n = 20\n",
    "grau_liberdade = n - 1\n",
    "media_amostra = 230\n",
    "sigma = 90\n",
    "significancia = 0.05\n",
    "confianca = 1 - significancia\n",
    "\n",
    "t_alpha = t_student.ppf(confianca, grau_liberdade)\n",
    "t_alpha"
   ]
  },
  {
   "cell_type": "code",
   "execution_count": 20,
   "id": "f5f1aa72-9245-42a9-9582-87721b46cf56",
   "metadata": {},
   "outputs": [
    {
     "data": {
      "text/plain": [
       "3.9752319599996264"
      ]
     },
     "execution_count": 20,
     "metadata": {},
     "output_type": "execute_result"
    }
   ],
   "source": [
    "t = (media_amostra - media) / (sigma / np.sqrt(n))\n",
    "t"
   ]
  },
  {
   "cell_type": "code",
   "execution_count": 21,
   "id": "e80d27da-0618-4d2c-9e6b-f8c431e18205",
   "metadata": {},
   "outputs": [
    {
     "data": {
      "text/plain": [
       "True"
      ]
     },
     "execution_count": 21,
     "metadata": {},
     "output_type": "execute_result"
    }
   ],
   "source": [
    "t >= t_alpha"
   ]
  },
  {
   "cell_type": "markdown",
   "id": "3dba7f73-a45f-4ffe-b04d-00648c00f432",
   "metadata": {},
   "source": [
    "#### 4 - A pizzaria Muito Queijo alega que a quantidade de queijo em suas pizzas tamanho família é de, no mínimo, 350 g. Uma amostra de 35 pizzas tamanho família revelou uma média de 330 g de queijo por pizza. O desvio padrão amostral foi de 80 g.\n",
    "\n",
    "Assumindo alfa igual a 5% e população normalmente distribuída, seria possível discordar da alegação da pizzaria? Assinale a alternativa que apresenta a estatística de teste e a decisão correta do teste."
   ]
  },
  {
   "cell_type": "code",
   "execution_count": 30,
   "id": "1bf2a7e9-4246-4743-9607-12f4d3800f35",
   "metadata": {},
   "outputs": [
    {
     "data": {
      "text/plain": [
       "1.6448536269514722"
      ]
     },
     "execution_count": 30,
     "metadata": {},
     "output_type": "execute_result"
    }
   ],
   "source": [
    "media = 350\n",
    "n = 35\n",
    "media_amostra = 330\n",
    "desvio_padrao_amostra = 80\n",
    "significancia = 0.05\n",
    "confianca = 1 - significancia\n",
    "\n",
    "z_alpha = norm.ppf(confianca)\n",
    "z_alpha\n"
   ]
  },
  {
   "cell_type": "code",
   "execution_count": 29,
   "id": "1e2d41bf-a1ce-474f-893a-c620cf20fa9e",
   "metadata": {},
   "outputs": [
    {
     "data": {
      "text/plain": [
       "-1.479019945774904"
      ]
     },
     "execution_count": 29,
     "metadata": {},
     "output_type": "execute_result"
    }
   ],
   "source": [
    "z = (media_amostra - media) / (desvio_padrao_amostra / np.sqrt(n))\n",
    "z"
   ]
  },
  {
   "cell_type": "code",
   "execution_count": 31,
   "id": "7d38d110-f244-41df-9448-01faba5eb9ae",
   "metadata": {},
   "outputs": [
    {
     "data": {
      "text/plain": [
       "False"
      ]
     },
     "execution_count": 31,
     "metadata": {},
     "output_type": "execute_result"
    }
   ],
   "source": [
    "z <= -z_alpha"
   ]
  },
  {
   "cell_type": "code",
   "execution_count": 32,
   "id": "8f4c3eaa-6276-4af0-a78f-2c90b05c63be",
   "metadata": {},
   "outputs": [
    {
     "data": {
      "text/plain": [
       "0.06956749203409206"
      ]
     },
     "execution_count": 32,
     "metadata": {},
     "output_type": "execute_result"
    }
   ],
   "source": [
    "p_valor = norm.cdf(z)\n",
    "p_valor"
   ]
  },
  {
   "cell_type": "code",
   "execution_count": 33,
   "id": "62ed5c9a-7569-4f05-8b8a-f88645d6e0e9",
   "metadata": {},
   "outputs": [
    {
     "data": {
      "text/plain": [
       "False"
      ]
     },
     "execution_count": 33,
     "metadata": {},
     "output_type": "execute_result"
    }
   ],
   "source": [
    "p_valor <= significancia"
   ]
  },
  {
   "cell_type": "markdown",
   "id": "bf28b422-58c9-412b-925b-b63b272f9e94",
   "metadata": {},
   "source": [
    "#### 5 - Um fabricante de cosméticos afirma que a adição de um novo composto químico em sua linha de shampoos consegue promover em mais de 2 centímetros o crescimento dos fios de cabelo em um período de 60 dias. Duas amostras de pessoas foram selecionadas e testadas, uma utilizando o shampoo novo (com o composto) e a outra com o shampoo antigo (sem o composto).\n",
    "\n",
    "#### Os resultados (crescimento dos fios de cabelo em centímetros) podem ser verificados na tabela abaixo:\n",
    "\n",
    "shampoo_Novo = pd.Series([3.4, 4.9, 2.8, 5.5, 3.7, 2.5, 4.3, 4.6, 3.7, 3.4])\n",
    "shampoo_Antigo = pd.Series([0.3, 1.2, 1.2, 1.7, 1.1, 0.6, 1.2, 1.5, 0.5, 0.7])\n",
    "\n",
    "#### Assumindo um nível de confiança de 95% e considerando que as populações se distribuem como uma normal, podemos acreditar na afirmação do fabricante do shampoo? Assinale a alternativa que apresenta a estatística de teste e a decisão correta do teste."
   ]
  },
  {
   "cell_type": "code",
   "execution_count": 36,
   "id": "436d8662-b909-4031-9017-1d6dc644ed27",
   "metadata": {},
   "outputs": [],
   "source": [
    "shampoo_Novo = pd.Series([3.4, 4.9, 2.8, 5.5, 3.7, 2.5, 4.3, 4.6, 3.7, 3.4])\n",
    "shampoo_Antigo = pd.Series([0.3, 1.2, 1.2, 1.7, 1.1, 0.6, 1.2, 1.5, 0.5, 0.7])"
   ]
  },
  {
   "cell_type": "code",
   "execution_count": 41,
   "id": "94ae127a-dc82-4507-a1cd-322813aa208d",
   "metadata": {},
   "outputs": [],
   "source": [
    "#H1 = mu1 - mu2 > 2       H0 = mu1 - mu2 <=2\n",
    "\n",
    "n_N = len(shampoo_Novo)\n",
    "n_A = len(shampoo_Antigo)\n",
    "D_0 = 2\n",
    "media_amostral_Novo = shampoo_Novo.mean()\n",
    "media_amostral_Antigo = shampoo_Antigo.mean()\n",
    "desvio_padrao__amostral_Novo = shampoo_Novo.std()\n",
    "desvio_padrao__amostral_Antigo = shampoo_Antigo.std()\n",
    "confianca = 0.95\n",
    "significancia = 1 - confianca\n",
    "grau_liberdade = n_N + n_A - 2"
   ]
  },
  {
   "cell_type": "code",
   "execution_count": 42,
   "id": "5239df73-fecb-4cf9-9b1e-aad0a2c1c23c",
   "metadata": {},
   "outputs": [
    {
     "data": {
      "text/plain": [
       "1.7340636066175354"
      ]
     },
     "execution_count": 42,
     "metadata": {},
     "output_type": "execute_result"
    }
   ],
   "source": [
    "t_alpha = t_student.ppf(confianca, grau_liberdade)\n",
    "t_alpha"
   ]
  },
  {
   "cell_type": "code",
   "execution_count": 46,
   "id": "9bdc4f7b-dd0c-48d7-ad6d-8d61673421f3",
   "metadata": {},
   "outputs": [
    {
     "data": {
      "text/plain": [
       "2.6646283978779297"
      ]
     },
     "execution_count": 46,
     "metadata": {},
     "output_type": "execute_result"
    }
   ],
   "source": [
    "numerador = (media_amostral_Novo - media_amostral_Antigo) - D_0\n",
    "denominador = np.sqrt((desvio_padrao__amostral_Novo ** 2 / n_N) + (desvio_padrao__amostral_Antigo ** 2 / n_A))\n",
    "\n",
    "t = numerador / denominador \n",
    "t"
   ]
  },
  {
   "cell_type": "code",
   "execution_count": 48,
   "id": "bc7a91c2-8a4c-40de-b024-3b2cd35bd7a3",
   "metadata": {},
   "outputs": [
    {
     "data": {
      "text/plain": [
       "True"
      ]
     },
     "execution_count": 48,
     "metadata": {},
     "output_type": "execute_result"
    }
   ],
   "source": [
    "t >= t_alpha"
   ]
  },
  {
   "cell_type": "markdown",
   "id": "22155b98-0c73-4e92-a016-70df333ee00d",
   "metadata": {},
   "source": [
    "#### 6 - A realização de um teste não paramétrico Qui-quadrado, com apenas 5 graus de liberdade, obteve-se a estatística de teste no valor de 7,45.\n",
    "\n",
    "#### Qual seria o p-valor para este teste?"
   ]
  },
  {
   "cell_type": "code",
   "execution_count": 55,
   "id": "8b1ccbda-341e-4e92-98a0-5e328592e09b",
   "metadata": {},
   "outputs": [
    {
     "data": {
      "text/plain": [
       "0.18926579121171602"
      ]
     },
     "execution_count": 55,
     "metadata": {},
     "output_type": "execute_result"
    }
   ],
   "source": [
    "graus_liberdade = 5\n",
    "chi_2 = 7.45\n",
    "\n",
    "raiz_chi_2 = np.sqrt(chi_2)\n",
    "\n",
    "p_valor = chi.sf(raiz_chi_2, df = graus_liberdade)\n",
    "p_valor"
   ]
  },
  {
   "cell_type": "markdown",
   "id": "3d165f5e-cacb-4da4-8ab9-b1bf254b0d79",
   "metadata": {},
   "source": [
    "#### 7 - Desconfiado da eficiência dos cursos e materiais de estudo online da Alura, um professor resolveu realizar um teste com um grupo de 14 alunos de sua classe. Para isto, ele submeteu estes alunos a duas etapas distintas e logo depois de cada etapa, aplicou uma avaliação. Na etapa inicial, foram oferecidas aulas normais, sem a utilização do material de apoio da Alura. Na segunda etapa, foram também oferecidas aulas normais, mas com a utilização do material de apoio da Alura. As notas obtidas pelos alunos estão na tabela abaixo:"
   ]
  },
  {
   "cell_type": "code",
   "execution_count": 63,
   "id": "e932bc27-fe15-493a-bf0d-5147b06576bd",
   "metadata": {},
   "outputs": [],
   "source": [
    "alunos = {\n",
    "         'Sem Alura': [7, 8, 6, 6, 10, 4, 2, 5, 9, 2, 4, 9, 1, 10],\n",
    "         'Com Alura': [10, 10, 9, 9, 9, 7, 5, 8, 10, 6, 3, 7, 4, 8]\n",
    "         }\n",
    "\n",
    "significancia = 0.1"
   ]
  },
  {
   "cell_type": "markdown",
   "id": "18b6e028-66ff-4891-8741-afef18dbabde",
   "metadata": {},
   "source": [
    "#### Assinale a alternativa que apresenta o resultado do teste, não paramétrico de Wilcoxon, aplicado pelo professor (estatística de teste T e decisão do teste). Considere um nível de significância de 10%."
   ]
  },
  {
   "cell_type": "code",
   "execution_count": 59,
   "id": "afcf9693-d9e9-4f1a-bed0-b2ea09081510",
   "metadata": {},
   "outputs": [
    {
     "data": {
      "text/html": [
       "<div>\n",
       "<style scoped>\n",
       "    .dataframe tbody tr th:only-of-type {\n",
       "        vertical-align: middle;\n",
       "    }\n",
       "\n",
       "    .dataframe tbody tr th {\n",
       "        vertical-align: top;\n",
       "    }\n",
       "\n",
       "    .dataframe thead th {\n",
       "        text-align: right;\n",
       "    }\n",
       "</style>\n",
       "<table border=\"1\" class=\"dataframe\">\n",
       "  <thead>\n",
       "    <tr style=\"text-align: right;\">\n",
       "      <th></th>\n",
       "      <th>Sem Alura</th>\n",
       "      <th>Com Alura</th>\n",
       "    </tr>\n",
       "  </thead>\n",
       "  <tbody>\n",
       "    <tr>\n",
       "      <th>0</th>\n",
       "      <td>7</td>\n",
       "      <td>10</td>\n",
       "    </tr>\n",
       "    <tr>\n",
       "      <th>1</th>\n",
       "      <td>8</td>\n",
       "      <td>10</td>\n",
       "    </tr>\n",
       "    <tr>\n",
       "      <th>2</th>\n",
       "      <td>6</td>\n",
       "      <td>9</td>\n",
       "    </tr>\n",
       "    <tr>\n",
       "      <th>3</th>\n",
       "      <td>6</td>\n",
       "      <td>9</td>\n",
       "    </tr>\n",
       "    <tr>\n",
       "      <th>4</th>\n",
       "      <td>10</td>\n",
       "      <td>9</td>\n",
       "    </tr>\n",
       "    <tr>\n",
       "      <th>5</th>\n",
       "      <td>4</td>\n",
       "      <td>7</td>\n",
       "    </tr>\n",
       "    <tr>\n",
       "      <th>6</th>\n",
       "      <td>2</td>\n",
       "      <td>5</td>\n",
       "    </tr>\n",
       "    <tr>\n",
       "      <th>7</th>\n",
       "      <td>5</td>\n",
       "      <td>8</td>\n",
       "    </tr>\n",
       "    <tr>\n",
       "      <th>8</th>\n",
       "      <td>9</td>\n",
       "      <td>10</td>\n",
       "    </tr>\n",
       "    <tr>\n",
       "      <th>9</th>\n",
       "      <td>2</td>\n",
       "      <td>6</td>\n",
       "    </tr>\n",
       "    <tr>\n",
       "      <th>10</th>\n",
       "      <td>4</td>\n",
       "      <td>3</td>\n",
       "    </tr>\n",
       "    <tr>\n",
       "      <th>11</th>\n",
       "      <td>9</td>\n",
       "      <td>7</td>\n",
       "    </tr>\n",
       "    <tr>\n",
       "      <th>12</th>\n",
       "      <td>1</td>\n",
       "      <td>4</td>\n",
       "    </tr>\n",
       "    <tr>\n",
       "      <th>13</th>\n",
       "      <td>10</td>\n",
       "      <td>8</td>\n",
       "    </tr>\n",
       "  </tbody>\n",
       "</table>\n",
       "</div>"
      ],
      "text/plain": [
       "    Sem Alura  Com Alura\n",
       "0           7         10\n",
       "1           8         10\n",
       "2           6          9\n",
       "3           6          9\n",
       "4          10          9\n",
       "5           4          7\n",
       "6           2          5\n",
       "7           5          8\n",
       "8           9         10\n",
       "9           2          6\n",
       "10          4          3\n",
       "11          9          7\n",
       "12          1          4\n",
       "13         10          8"
      ]
     },
     "execution_count": 59,
     "metadata": {},
     "output_type": "execute_result"
    }
   ],
   "source": [
    "alunos = pd.DataFrame(alunos)\n",
    "alunos"
   ]
  },
  {
   "cell_type": "code",
   "execution_count": 61,
   "id": "5abf1ba7-afa9-4fab-bffd-3e8739406408",
   "metadata": {},
   "outputs": [
    {
     "name": "stdout",
     "output_type": "stream",
     "text": [
      "14.0\n",
      "0.013427734375\n"
     ]
    }
   ],
   "source": [
    "T, p_valor = wilcoxon(alunos['Sem Alura'], alunos['Com Alura'])\n",
    "print(T)\n",
    "print(p_valor)"
   ]
  },
  {
   "cell_type": "code",
   "execution_count": 64,
   "id": "73bdb977-29c5-494f-8cc6-c261bf76341b",
   "metadata": {},
   "outputs": [
    {
     "data": {
      "text/plain": [
       "True"
      ]
     },
     "execution_count": 64,
     "metadata": {},
     "output_type": "execute_result"
    }
   ],
   "source": [
    "p_valor <= significancia"
   ]
  },
  {
   "cell_type": "markdown",
   "id": "8be165ec-6deb-461e-8e3d-d995b8c8d4a8",
   "metadata": {},
   "source": [
    "#### 8 - Um professor acredita que alunos que praticam exercícios físicos têm uma performance média escolar superior àquela obtida por alunos que não praticam. Para provar sua teoria, selecionou duas amostras aleatórias, uma com 9 alunos que não praticam exercícios físicos e outra com 10 alunos que cultivam o hábito de se exercitar. A tabela abaixo mostra as notas dos alunos no último ano:"
   ]
  },
  {
   "cell_type": "code",
   "execution_count": 65,
   "id": "4b833673-c63c-48ad-93c6-80552e513f22",
   "metadata": {},
   "outputs": [],
   "source": [
    "alunos = {\n",
    "         'Sem_exercícios': [7, 6, 7, 8, 6, 8, 6, 9, 5],\n",
    "         'Com_exercícios': [8, 7, 6, 6, 8, 6, 10, 6, 7, 8]\n",
    "         }"
   ]
  },
  {
   "cell_type": "markdown",
   "id": "9c197627-03ad-40da-8d1e-f1d50ddf317d",
   "metadata": {},
   "source": [
    "#### Teste a hipótese da média das notas dos alunos que praticam exercícios ser maior que a média das notas dos alunos que não praticam. Assinale a alternativa que apresenta o resultado do teste (estatística de teste u e decisão do teste). Considere um nível de significância de 10%."
   ]
  },
  {
   "cell_type": "code",
   "execution_count": 75,
   "id": "651ad18c-7293-49f3-ae0f-ffcfea09a13f",
   "metadata": {},
   "outputs": [
    {
     "name": "stdout",
     "output_type": "stream",
     "text": [
      "50.0\n",
      "0.35118642828565927\n"
     ]
    }
   ],
   "source": [
    "# H0 = media dos que não praticam = media dos que praticam\n",
    "# H1 = media pratica > media não pratica  ::: mu1 > mu2\n",
    "\n",
    "significancia = 0.1\n",
    "\n",
    "from scipy.stats import mannwhitneyu\n",
    "\n",
    "# sem = alunos['Sem_exercícios']\n",
    "# com = alunos['Com_exercícios']\n",
    "\n",
    "u, p_valor = mannwhitneyu(alunos['Com_exercícios'], alunos['Sem_exercícios'], alternative = 'greater')\n",
    "print(u)\n",
    "print(p_valor)"
   ]
  },
  {
   "cell_type": "code",
   "execution_count": 74,
   "id": "c66b18d0-8389-4768-9877-a6e16b817e78",
   "metadata": {},
   "outputs": [
    {
     "data": {
      "text/plain": [
       "False"
      ]
     },
     "execution_count": 74,
     "metadata": {},
     "output_type": "execute_result"
    }
   ],
   "source": [
    "p_valor <= significancia"
   ]
  },
  {
   "cell_type": "code",
   "execution_count": null,
   "id": "435703c8-fa02-4671-8023-36f205862099",
   "metadata": {},
   "outputs": [],
   "source": []
  }
 ],
 "metadata": {
  "kernelspec": {
   "display_name": "Python 3 (ipykernel)",
   "language": "python",
   "name": "python3"
  },
  "language_info": {
   "codemirror_mode": {
    "name": "ipython",
    "version": 3
   },
   "file_extension": ".py",
   "mimetype": "text/x-python",
   "name": "python",
   "nbconvert_exporter": "python",
   "pygments_lexer": "ipython3",
   "version": "3.11.5"
  }
 },
 "nbformat": 4,
 "nbformat_minor": 5
}
