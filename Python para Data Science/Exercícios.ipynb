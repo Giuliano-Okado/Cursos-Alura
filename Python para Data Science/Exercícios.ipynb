{
 "cells": [
  {
   "cell_type": "markdown",
   "id": "13ff95fc",
   "metadata": {},
   "source": [
    "### 1. Escreva um código para instalar a versão 3.7.1 da biblioteca matplotlib"
   ]
  },
  {
   "cell_type": "code",
   "execution_count": 2,
   "id": "9f9343f6",
   "metadata": {},
   "outputs": [
    {
     "name": "stdout",
     "output_type": "stream",
     "text": [
      "Requirement already satisfied: matplotlib==3.7.1 in c:\\users\\giuliano\\anaconda3\\lib\\site-packages (3.7.1)\n",
      "Requirement already satisfied: contourpy>=1.0.1 in c:\\users\\giuliano\\anaconda3\\lib\\site-packages (from matplotlib==3.7.1) (1.0.5)\n",
      "Requirement already satisfied: cycler>=0.10 in c:\\users\\giuliano\\anaconda3\\lib\\site-packages (from matplotlib==3.7.1) (0.11.0)\n",
      "Requirement already satisfied: fonttools>=4.22.0 in c:\\users\\giuliano\\anaconda3\\lib\\site-packages (from matplotlib==3.7.1) (4.25.0)\n",
      "Requirement already satisfied: kiwisolver>=1.0.1 in c:\\users\\giuliano\\anaconda3\\lib\\site-packages (from matplotlib==3.7.1) (1.4.4)\n",
      "Requirement already satisfied: numpy>=1.20 in c:\\users\\giuliano\\anaconda3\\lib\\site-packages (from matplotlib==3.7.1) (1.24.3)\n",
      "Requirement already satisfied: packaging>=20.0 in c:\\users\\giuliano\\anaconda3\\lib\\site-packages (from matplotlib==3.7.1) (23.0)\n",
      "Requirement already satisfied: pillow>=6.2.0 in c:\\users\\giuliano\\anaconda3\\lib\\site-packages (from matplotlib==3.7.1) (9.4.0)\n",
      "Requirement already satisfied: pyparsing>=2.3.1 in c:\\users\\giuliano\\anaconda3\\lib\\site-packages (from matplotlib==3.7.1) (3.0.9)\n",
      "Requirement already satisfied: python-dateutil>=2.7 in c:\\users\\giuliano\\anaconda3\\lib\\site-packages (from matplotlib==3.7.1) (2.8.2)\n",
      "Requirement already satisfied: six>=1.5 in c:\\users\\giuliano\\anaconda3\\lib\\site-packages (from python-dateutil>=2.7->matplotlib==3.7.1) (1.16.0)\n"
     ]
    }
   ],
   "source": [
    "!pip install matplotlib==3.7.1"
   ]
  },
  {
   "cell_type": "markdown",
   "id": "a9dcb0ed",
   "metadata": {},
   "source": [
    "### 2. Escreva um código para importar a biblioteca numpy com o alias np"
   ]
  },
  {
   "cell_type": "code",
   "execution_count": 3,
   "id": "e47258be",
   "metadata": {},
   "outputs": [],
   "source": [
    "import numpy as np"
   ]
  },
  {
   "cell_type": "markdown",
   "id": "f28fa431",
   "metadata": {},
   "source": [
    "### 3. Crie um programa que leia a seguinte lista de números e escolha um número desta aleatoriamente: lista = [8, 12, 54, 23, 43, 1, 90, 87, 105, 77]"
   ]
  },
  {
   "cell_type": "code",
   "execution_count": 1,
   "id": "2232b6c0",
   "metadata": {},
   "outputs": [],
   "source": [
    "from random import choice"
   ]
  },
  {
   "cell_type": "code",
   "execution_count": 2,
   "id": "30e670e9",
   "metadata": {},
   "outputs": [
    {
     "data": {
      "text/plain": [
       "77"
      ]
     },
     "execution_count": 2,
     "metadata": {},
     "output_type": "execute_result"
    }
   ],
   "source": [
    "lista = [8, 12, 54, 23, 43, 1, 90, 87, 105, 77]\n",
    "choice(lista)"
   ]
  },
  {
   "cell_type": "markdown",
   "id": "45d5324d",
   "metadata": {},
   "source": [
    "### 4. Crie um programa que sorteia, aleatoriamente, um número inteiro menor que 100."
   ]
  },
  {
   "cell_type": "code",
   "execution_count": 3,
   "id": "0a4a6abc",
   "metadata": {},
   "outputs": [],
   "source": [
    "from random import randrange"
   ]
  },
  {
   "cell_type": "code",
   "execution_count": 4,
   "id": "34999e42",
   "metadata": {},
   "outputs": [
    {
     "data": {
      "text/plain": [
       "19"
      ]
     },
     "execution_count": 4,
     "metadata": {},
     "output_type": "execute_result"
    }
   ],
   "source": [
    "randrange(100)"
   ]
  },
  {
   "cell_type": "markdown",
   "id": "8ae305b9",
   "metadata": {},
   "source": [
    "### 5. Crie um programa que solicite à pessoa usuária digitar dois números inteiros e calcular a potência do 1º número elevado ao 2º."
   ]
  },
  {
   "cell_type": "code",
   "execution_count": 19,
   "id": "f3c8b2e2",
   "metadata": {},
   "outputs": [],
   "source": [
    "from math import pow"
   ]
  },
  {
   "cell_type": "code",
   "execution_count": 27,
   "id": "941b43ff",
   "metadata": {},
   "outputs": [
    {
     "name": "stdout",
     "output_type": "stream",
     "text": [
      "Escolha um número inteiro1\n",
      "Escolha outro número inteiro4\n"
     ]
    },
    {
     "data": {
      "text/plain": [
       "1.0"
      ]
     },
     "execution_count": 27,
     "metadata": {},
     "output_type": "execute_result"
    }
   ],
   "source": [
    "num1 = int(input('Escolha um número inteiro'))\n",
    "num2 = int(input('Escolha outro número inteiro'))\n",
    "\n",
    "pow(num1, num2)"
   ]
  },
  {
   "cell_type": "markdown",
   "id": "6cd5a631",
   "metadata": {},
   "source": [
    "### 6. Um programa deve ser escrito para sortear uma pessoa seguidora de uma rede social para ganhar um prêmio. A lista de participantes é numerada e devemos escolher aleatoriamente um número de acordo com a quantidade de participantes. Peça à pessoa usuária para fornecer o número de participantes do sorteio e devolva para ela o número sorteado."
   ]
  },
  {
   "cell_type": "code",
   "execution_count": 39,
   "id": "a3836096",
   "metadata": {},
   "outputs": [
    {
     "name": "stdout",
     "output_type": "stream",
     "text": [
      "Qual o número de participantes59\n"
     ]
    },
    {
     "data": {
      "text/plain": [
       "47"
      ]
     },
     "execution_count": 39,
     "metadata": {},
     "output_type": "execute_result"
    }
   ],
   "source": [
    "numero_participantes = int(input('Qual o número de participantes'))\n",
    "lista = list(range(1, numero_participantes))\n",
    "choice(lista)"
   ]
  },
  {
   "cell_type": "markdown",
   "id": "b56d3c1f",
   "metadata": {},
   "source": [
    "### 7. Você recebeu uma demanda para gerar números de token para acessar o aplicativo de uma empresa. O token precisa ser par e variar de 1000 até 9998. Escreva um código que solicita à pessoa usuária o seu nome e exibe uma mensagem junto a esse token gerado aleatoriamente."
   ]
  },
  {
   "cell_type": "code",
   "execution_count": 46,
   "id": "916ae9f1",
   "metadata": {},
   "outputs": [
    {
     "name": "stdout",
     "output_type": "stream",
     "text": [
      "Olá, qual é o seu nome?Ana\n",
      "Olá, Ana ,o seu token de acesso é 6612 ! Seja bem-vindo(a)!\n"
     ]
    }
   ],
   "source": [
    "nome = input('Olá, qual é o seu nome?')\n",
    "lista = list(range(1000, 9998, 2))\n",
    "token = choice(lista)\n",
    "print(\"Olá,\", nome, \",o seu token de acesso é\", token, \"! Seja bem-vindo(a)!\")"
   ]
  },
  {
   "cell_type": "markdown",
   "id": "3ae088ef",
   "metadata": {},
   "source": [
    "### 8. Para diversificar e atrair novos(as) clientes, uma lanchonete criou um item misterioso em seu cardápio chamado \"salada de frutas surpresa\". Neste item, são escolhidas aleatoriamente 3 frutas de uma lista de 12 para compor a salada de frutas da pessoa cliente. Crie o código que faça essa seleção aleatória de acordo com a lista abaixo:"
   ]
  },
  {
   "cell_type": "code",
   "execution_count": 47,
   "id": "47bf50de",
   "metadata": {},
   "outputs": [],
   "source": [
    "frutas = [\"maçã\", \"banana\", \"uva\", \"pêra\", \n",
    "          \"manga\", \"coco\", \"melancia\", \"mamão\",\n",
    "          \"laranja\", \"abacaxi\", \"kiwi\", \"ameixa\"]"
   ]
  },
  {
   "cell_type": "code",
   "execution_count": 48,
   "id": "35294b0f",
   "metadata": {},
   "outputs": [],
   "source": [
    "from random import choices"
   ]
  },
  {
   "cell_type": "code",
   "execution_count": 53,
   "id": "f8036851",
   "metadata": {},
   "outputs": [
    {
     "data": {
      "text/plain": [
       "['uva', 'pêra', 'manga']"
      ]
     },
     "execution_count": 53,
     "metadata": {},
     "output_type": "execute_result"
    }
   ],
   "source": [
    "choices(frutas, k =3)"
   ]
  },
  {
   "cell_type": "markdown",
   "id": "be59d34d",
   "metadata": {},
   "source": [
    "### 9. Você recebeu um desafio de calcular a raiz quadrada de uma lista de números, identificando quais resultaram em um número inteiro. A lista é a seguinte:"
   ]
  },
  {
   "cell_type": "code",
   "execution_count": 54,
   "id": "2a7cc70b",
   "metadata": {},
   "outputs": [],
   "source": [
    "numeros = [2, 8, 15, 23, 91, 112, 256]"
   ]
  },
  {
   "cell_type": "markdown",
   "id": "8d5a960e",
   "metadata": {},
   "source": [
    "### No final, informe quais números possuem raízes inteiras e seus respectivos valores."
   ]
  },
  {
   "cell_type": "code",
   "execution_count": null,
   "id": "52ecf3a5",
   "metadata": {},
   "outputs": [],
   "source": []
  },
  {
   "cell_type": "markdown",
   "id": "2363c7a7",
   "metadata": {},
   "source": [
    "### 10. Faça um programa para uma loja que vende grama para jardins. Essa loja trabalha com jardins circulares e o preço do metro quadrado da grama é de R$ 25,00. Peça à pessoa usuária o raio da área circular e devolva o valor em reais do quanto precisará pagar."
   ]
  },
  {
   "cell_type": "code",
   "execution_count": 56,
   "id": "d4a7de56",
   "metadata": {},
   "outputs": [],
   "source": [
    "from math import pow, pi"
   ]
  },
  {
   "cell_type": "code",
   "execution_count": 61,
   "id": "06934fb6",
   "metadata": {},
   "outputs": [
    {
     "name": "stdout",
     "output_type": "stream",
     "text": [
      "Informe o raio da área circular8\n",
      "R$: 5026.55\n"
     ]
    }
   ],
   "source": [
    "raio = int(input('Informe o raio da área circular'))\n",
    "area = pi * pow(raio,2)\n",
    "custo = round(area * 25, 2)\n",
    "custo\n",
    "print('R$:', custo)"
   ]
  },
  {
   "cell_type": "code",
   "execution_count": null,
   "id": "076ed733",
   "metadata": {},
   "outputs": [],
   "source": []
  }
 ],
 "metadata": {
  "kernelspec": {
   "display_name": "Python 3 (ipykernel)",
   "language": "python",
   "name": "python3"
  },
  "language_info": {
   "codemirror_mode": {
    "name": "ipython",
    "version": 3
   },
   "file_extension": ".py",
   "mimetype": "text/x-python",
   "name": "python",
   "nbconvert_exporter": "python",
   "pygments_lexer": "ipython3",
   "version": "3.11.5"
  }
 },
 "nbformat": 4,
 "nbformat_minor": 5
}
